{
 "cells": [
  {
   "cell_type": "code",
   "execution_count": 1,
   "id": "1c9df4d6",
   "metadata": {},
   "outputs": [],
   "source": [
    "import torch\n",
    "from torchvision import datasets, transforms\n",
    "import matplotlib.pyplot as plt\n",
    "import numpy as np\n",
    "from torch import nn, optim, cuda\n",
    "import torch.nn as nn"
   ]
  },
  {
   "cell_type": "markdown",
   "id": "6e041fe8",
   "metadata": {},
   "source": [
    "1. Create train and holdout folders, where each folder has the three classes as subfolders. Discuss in a markdown cell how many images you chose to have in each class' holdout folder. (Note: you can move images into the folders by hand if you don't want to write a script, but make sure you don't have the same images in train and holdout). Make sure all the class names are the same across folders. Now repeat the process for train and validation, so that you have a train, validation, and holdout folders at the same directory level. Discuss how/why you chose what's in your holdout."
   ]
  },
  {
   "cell_type": "markdown",
   "id": "903fc346",
   "metadata": {},
   "source": [
    "I created 3 folders; Dogs_Holdout, Dogs_Train, and Dogs_Validation.  Within each of those folders, I have 3 subfolders; Great_Dane, Norfolk_Terrier, and Norwich_Terrier.  For each class/dog breed, I chose to put the first 10% of the images into the holdout folder, the second 10% of the images into the validation folder, and the remaining 80% into the train folder.  This is normally the percentage that we use to spit a dataset into train/holdout/validation."
   ]
  },
  {
   "cell_type": "markdown",
   "id": "1f61ddac",
   "metadata": {},
   "source": [
    "2. Define a list of image transformations to be used during training, passing them to transforms.Compose(). Discuss why you think these transformations might help."
   ]
  },
  {
   "cell_type": "code",
   "execution_count": 2,
   "id": "f88dab92",
   "metadata": {},
   "outputs": [],
   "source": [
    "train_transformations = [\n",
    "    transforms.Resize(size=[224,224]),\n",
    "\ttransforms.RandomRotation(degrees=90),\n",
    "    transforms.RandomHorizontalFlip(),\n",
    "    transforms.RandomVerticalFlip(),\n",
    "    transforms.ColorJitter(), # randomly changes brightness, contrast, saturation\n",
    "    transforms.ToTensor(),\n",
    "    transforms.Normalize((0.485, 0.456, 0.406), (0.229, 0.224, 0.225))\n",
    "]\n",
    "\n",
    "train_images = datasets.ImageFolder(root=\"Dogs_Train\", transform=transforms.Compose(train_transformations))"
   ]
  },
  {
   "cell_type": "markdown",
   "id": "7ac430b9",
   "metadata": {},
   "source": [
    "Firstly, resizing all the images to the standard size of 224x224 is helpful so that they can all be on the same scale.  Then, I chose to perform random flips and rotation, just to add variety to the images.  Some dogs may be facing different directions, so it is important for the model to recognize the dogs from all angles.  The color jitter may also be helpful because I'm sure not all the photos were taken in the same lighting, so it is important for the model to pick up on certain colors or textures in different lighting situations."
   ]
  },
  {
   "cell_type": "markdown",
   "id": "801c8535",
   "metadata": {},
   "source": [
    "3. Repeat the step above for test and validation transformations."
   ]
  },
  {
   "cell_type": "code",
   "execution_count": 3,
   "id": "3610375a",
   "metadata": {},
   "outputs": [],
   "source": [
    "test_hold_transformations = [\n",
    "    transforms.Resize(size=[224,224]),\n",
    "    transforms.ToTensor(),\n",
    "    transforms.Normalize((0.485, 0.456, 0.406), (0.229, 0.224, 0.225)) #make sure these nums are right\n",
    "]\n",
    "validation_images = datasets.ImageFolder(root=\"Dogs_Validation\", transform=transforms.Compose(test_hold_transformations))\n",
    "holdout_images = datasets.ImageFolder(root=\"Dogs_Holdout\", transform=transforms.Compose(test_hold_transformations))\n"
   ]
  },
  {
   "cell_type": "markdown",
   "id": "72dc3461",
   "metadata": {},
   "source": [
    "4. Correctly set up DataLoaders for the three folders (train, validation, holdout). Discuss what options you chose for these loaders, and why (including batch size, shuffling, and dropping last)."
   ]
  },
  {
   "cell_type": "code",
   "execution_count": 4,
   "id": "78d654de",
   "metadata": {},
   "outputs": [],
   "source": [
    "train_loader = torch.utils.data.DataLoader(dataset=train_images, shuffle=True, batch_size=32, drop_last = False)\n",
    "validation_loader = torch.utils.data.DataLoader(dataset=validation_images, shuffle=True, batch_size=32, drop_last = False)\n",
    "holdout_loader = torch.utils.data.DataLoader(dataset=holdout_images, shuffle=True, batch_size=32, drop_last = False)"
   ]
  },
  {
   "cell_type": "markdown",
   "id": "739b0841",
   "metadata": {},
   "source": [
    "We have a small datase, so I decided to go with a small batch size.  Batch sizes should be a power of 2, so I chose 32.  I chose drop_last to be false so that it will not drop the last incomplete batch.  We already have a small sample size, so I wouldn't want to drop a whole batch."
   ]
  },
  {
   "cell_type": "markdown",
   "id": "e9368d32",
   "metadata": {},
   "source": [
    "5. Instantiate any pre-trained ImageNet model. Discuss why you chose it amongst the others."
   ]
  },
  {
   "cell_type": "code",
   "execution_count": 5,
   "id": "2a63f446",
   "metadata": {},
   "outputs": [],
   "source": [
    "import torchvision.models as models\n",
    "model = models.resnet18(pretrained=True)"
   ]
  },
  {
   "cell_type": "markdown",
   "id": "a17c330c",
   "metadata": {},
   "source": [
    "ResNet18 is a convolutional neural network that is 18 layers deep.  You can load a pretrained version of the network to train and classsify images into object categories.  Residual neural networks apply identity mapping, which means the input to a layer is passed directly to another layer.  I chose this particular model because it is trained on more than 1 million images and it is known to produce good results when classifying images into categories."
   ]
  },
  {
   "cell_type": "markdown",
   "id": "bd1fae12",
   "metadata": {},
   "source": [
    "6. Write code to freeze/unfreeze the pretrained model layers"
   ]
  },
  {
   "cell_type": "code",
   "execution_count": 6,
   "id": "a17791b6",
   "metadata": {},
   "outputs": [],
   "source": [
    "#https://discuss.pytorch.org/t/how-the-pytorch-freeze-network-in-some-layers-only-the-rest-of-the-training/7088/2\n",
    "for param in model.parameters(): # freeze some maybe?\n",
    "    param.requires_grad = False"
   ]
  },
  {
   "cell_type": "markdown",
   "id": "bb48b784",
   "metadata": {},
   "source": [
    "7. Replace the head of the model with sequential layer(s) to predict our three classes."
   ]
  },
  {
   "cell_type": "code",
   "execution_count": 7,
   "id": "76ad9633",
   "metadata": {},
   "outputs": [
    {
     "data": {
      "text/plain": [
       "ResNet(\n",
       "  (conv1): Conv2d(3, 64, kernel_size=(7, 7), stride=(2, 2), padding=(3, 3), bias=False)\n",
       "  (bn1): BatchNorm2d(64, eps=1e-05, momentum=0.1, affine=True, track_running_stats=True)\n",
       "  (relu): ReLU(inplace=True)\n",
       "  (maxpool): MaxPool2d(kernel_size=3, stride=2, padding=1, dilation=1, ceil_mode=False)\n",
       "  (layer1): Sequential(\n",
       "    (0): BasicBlock(\n",
       "      (conv1): Conv2d(64, 64, kernel_size=(3, 3), stride=(1, 1), padding=(1, 1), bias=False)\n",
       "      (bn1): BatchNorm2d(64, eps=1e-05, momentum=0.1, affine=True, track_running_stats=True)\n",
       "      (relu): ReLU(inplace=True)\n",
       "      (conv2): Conv2d(64, 64, kernel_size=(3, 3), stride=(1, 1), padding=(1, 1), bias=False)\n",
       "      (bn2): BatchNorm2d(64, eps=1e-05, momentum=0.1, affine=True, track_running_stats=True)\n",
       "    )\n",
       "    (1): BasicBlock(\n",
       "      (conv1): Conv2d(64, 64, kernel_size=(3, 3), stride=(1, 1), padding=(1, 1), bias=False)\n",
       "      (bn1): BatchNorm2d(64, eps=1e-05, momentum=0.1, affine=True, track_running_stats=True)\n",
       "      (relu): ReLU(inplace=True)\n",
       "      (conv2): Conv2d(64, 64, kernel_size=(3, 3), stride=(1, 1), padding=(1, 1), bias=False)\n",
       "      (bn2): BatchNorm2d(64, eps=1e-05, momentum=0.1, affine=True, track_running_stats=True)\n",
       "    )\n",
       "  )\n",
       "  (layer2): Sequential(\n",
       "    (0): BasicBlock(\n",
       "      (conv1): Conv2d(64, 128, kernel_size=(3, 3), stride=(2, 2), padding=(1, 1), bias=False)\n",
       "      (bn1): BatchNorm2d(128, eps=1e-05, momentum=0.1, affine=True, track_running_stats=True)\n",
       "      (relu): ReLU(inplace=True)\n",
       "      (conv2): Conv2d(128, 128, kernel_size=(3, 3), stride=(1, 1), padding=(1, 1), bias=False)\n",
       "      (bn2): BatchNorm2d(128, eps=1e-05, momentum=0.1, affine=True, track_running_stats=True)\n",
       "      (downsample): Sequential(\n",
       "        (0): Conv2d(64, 128, kernel_size=(1, 1), stride=(2, 2), bias=False)\n",
       "        (1): BatchNorm2d(128, eps=1e-05, momentum=0.1, affine=True, track_running_stats=True)\n",
       "      )\n",
       "    )\n",
       "    (1): BasicBlock(\n",
       "      (conv1): Conv2d(128, 128, kernel_size=(3, 3), stride=(1, 1), padding=(1, 1), bias=False)\n",
       "      (bn1): BatchNorm2d(128, eps=1e-05, momentum=0.1, affine=True, track_running_stats=True)\n",
       "      (relu): ReLU(inplace=True)\n",
       "      (conv2): Conv2d(128, 128, kernel_size=(3, 3), stride=(1, 1), padding=(1, 1), bias=False)\n",
       "      (bn2): BatchNorm2d(128, eps=1e-05, momentum=0.1, affine=True, track_running_stats=True)\n",
       "    )\n",
       "  )\n",
       "  (layer3): Sequential(\n",
       "    (0): BasicBlock(\n",
       "      (conv1): Conv2d(128, 256, kernel_size=(3, 3), stride=(2, 2), padding=(1, 1), bias=False)\n",
       "      (bn1): BatchNorm2d(256, eps=1e-05, momentum=0.1, affine=True, track_running_stats=True)\n",
       "      (relu): ReLU(inplace=True)\n",
       "      (conv2): Conv2d(256, 256, kernel_size=(3, 3), stride=(1, 1), padding=(1, 1), bias=False)\n",
       "      (bn2): BatchNorm2d(256, eps=1e-05, momentum=0.1, affine=True, track_running_stats=True)\n",
       "      (downsample): Sequential(\n",
       "        (0): Conv2d(128, 256, kernel_size=(1, 1), stride=(2, 2), bias=False)\n",
       "        (1): BatchNorm2d(256, eps=1e-05, momentum=0.1, affine=True, track_running_stats=True)\n",
       "      )\n",
       "    )\n",
       "    (1): BasicBlock(\n",
       "      (conv1): Conv2d(256, 256, kernel_size=(3, 3), stride=(1, 1), padding=(1, 1), bias=False)\n",
       "      (bn1): BatchNorm2d(256, eps=1e-05, momentum=0.1, affine=True, track_running_stats=True)\n",
       "      (relu): ReLU(inplace=True)\n",
       "      (conv2): Conv2d(256, 256, kernel_size=(3, 3), stride=(1, 1), padding=(1, 1), bias=False)\n",
       "      (bn2): BatchNorm2d(256, eps=1e-05, momentum=0.1, affine=True, track_running_stats=True)\n",
       "    )\n",
       "  )\n",
       "  (layer4): Sequential(\n",
       "    (0): BasicBlock(\n",
       "      (conv1): Conv2d(256, 512, kernel_size=(3, 3), stride=(2, 2), padding=(1, 1), bias=False)\n",
       "      (bn1): BatchNorm2d(512, eps=1e-05, momentum=0.1, affine=True, track_running_stats=True)\n",
       "      (relu): ReLU(inplace=True)\n",
       "      (conv2): Conv2d(512, 512, kernel_size=(3, 3), stride=(1, 1), padding=(1, 1), bias=False)\n",
       "      (bn2): BatchNorm2d(512, eps=1e-05, momentum=0.1, affine=True, track_running_stats=True)\n",
       "      (downsample): Sequential(\n",
       "        (0): Conv2d(256, 512, kernel_size=(1, 1), stride=(2, 2), bias=False)\n",
       "        (1): BatchNorm2d(512, eps=1e-05, momentum=0.1, affine=True, track_running_stats=True)\n",
       "      )\n",
       "    )\n",
       "    (1): BasicBlock(\n",
       "      (conv1): Conv2d(512, 512, kernel_size=(3, 3), stride=(1, 1), padding=(1, 1), bias=False)\n",
       "      (bn1): BatchNorm2d(512, eps=1e-05, momentum=0.1, affine=True, track_running_stats=True)\n",
       "      (relu): ReLU(inplace=True)\n",
       "      (conv2): Conv2d(512, 512, kernel_size=(3, 3), stride=(1, 1), padding=(1, 1), bias=False)\n",
       "      (bn2): BatchNorm2d(512, eps=1e-05, momentum=0.1, affine=True, track_running_stats=True)\n",
       "    )\n",
       "  )\n",
       "  (avgpool): AdaptiveAvgPool2d(output_size=(1, 1))\n",
       "  (fc): Linear(in_features=512, out_features=3, bias=True)\n",
       ")"
      ]
     },
     "execution_count": 7,
     "metadata": {},
     "output_type": "execute_result"
    }
   ],
   "source": [
    "import torch.nn as nn\n",
    "#making a custom classifier\n",
    "model.fc = nn.Linear(512, 3, bias=True) #inputs = num images in train\n",
    "model"
   ]
  },
  {
   "cell_type": "markdown",
   "id": "637a7934",
   "metadata": {},
   "source": [
    "8. What activation function did you use in the step above? Why?"
   ]
  },
  {
   "cell_type": "markdown",
   "id": "5b2d2413",
   "metadata": {},
   "source": [
    "I used ReLu since it is already used by resnet.  Using ReLu during training is fast and has advantages such as sparsity and a reduced likelihood of vanishing gradient."
   ]
  },
  {
   "cell_type": "markdown",
   "id": "689a62fa",
   "metadata": {},
   "source": [
    "9. Did you use dropout in the step above? Why or why not?"
   ]
  },
  {
   "cell_type": "markdown",
   "id": "c4676c29",
   "metadata": {},
   "source": [
    "No, I did not use dropout.  The model I have chosen, resnet, does not utilize dropout, so I did not include it."
   ]
  },
  {
   "cell_type": "markdown",
   "id": "67a80e85",
   "metadata": {},
   "source": [
    "10. Did you use batch normalization in the step above? Why or why not?"
   ]
  },
  {
   "cell_type": "markdown",
   "id": "505cf995",
   "metadata": {},
   "source": [
    "For the same reasons as above, I didn't include batch normalization."
   ]
  },
  {
   "cell_type": "markdown",
   "id": "4ff6fdc2",
   "metadata": {},
   "source": [
    "11. Choose and instantiate an optimizer. Discuss your choice."
   ]
  },
  {
   "cell_type": "code",
   "execution_count": 8,
   "id": "1f3630e2",
   "metadata": {},
   "outputs": [],
   "source": [
    "from torch import optim\n",
    "optimizer = torch.optim.Adam(model.parameters())"
   ]
  },
  {
   "cell_type": "markdown",
   "id": "9666fdeb",
   "metadata": {},
   "source": [
    "I chose to go with the Adam Class.  From what I have gathered, it seems that Adam is a very popular optimizer and combines the properties of the Adadelta and RMSprop optimizers into one and tends to perform well on most problems."
   ]
  },
  {
   "cell_type": "markdown",
   "id": "601aeac6",
   "metadata": {},
   "source": [
    "12. Choose and instantiate a loss function. Discuss your choice."
   ]
  },
  {
   "cell_type": "code",
   "execution_count": 9,
   "id": "8114b26c",
   "metadata": {},
   "outputs": [],
   "source": [
    "loss_func = nn.CrossEntropyLoss()"
   ]
  },
  {
   "cell_type": "markdown",
   "id": "ca9c6b42",
   "metadata": {},
   "source": [
    "https://machinelearningmastery.com/how-to-choose-loss-functions-when-training-deep-learning-neural-networks/\n",
    "I chose to use CrossEntropyLoss to asess the performance of the network.  It is the default loss function to use for multi-class classification problems, and we have 3 classes in this network.  It calculates a score that summerizes the average difference between the actual and predicted probability districbutions for all classes in the problem."
   ]
  },
  {
   "cell_type": "markdown",
   "id": "656ff5ed",
   "metadata": {},
   "source": [
    "13. Write code that places the model on the GPU, if it exists, otherwise using the CPU."
   ]
  },
  {
   "cell_type": "code",
   "execution_count": 10,
   "id": "6e0233c2",
   "metadata": {},
   "outputs": [],
   "source": [
    "move_to_gpu = cuda.is_available()\n",
    "if move_to_gpu:\n",
    "    model = model.to('cuda')\n"
   ]
  },
  {
   "cell_type": "markdown",
   "id": "879f92f0",
   "metadata": {},
   "source": [
    "14. Correctly set up your model to train over 20+ epochs (if GPU) or 2+ epochs (if CPU)."
   ]
  },
  {
   "cell_type": "code",
   "execution_count": 11,
   "id": "885a06a9",
   "metadata": {},
   "outputs": [],
   "source": [
    "epochs = 20\n",
    "training_losses = []\n",
    "validation_losses = []\n",
    "training_accuracies = []\n",
    "valid_accuracies = []\n",
    "epoch_list = []"
   ]
  },
  {
   "cell_type": "markdown",
   "id": "bacecd9a",
   "metadata": {},
   "source": [
    "15. Correctly set up your model to use your batches for training.\n",
    "16. Correctly make predictions with your model (the predictions can be wrong).\n",
    "17. Correctly call your loss function and back-propagate its results.\n",
    "18. Use the optimizer correctly to update weights/gradients.\n",
    "19. Correctly record training losses for each epoch.\n",
    "20. Correctly set up validation at each epoch.\n",
    "21. Correctly record validation losses for each epoch.\n",
    "22. Correctly record training and validation accuracies for each epoch\n",
    "23. Write code that places the model on the GPU, if it exists, otherwise using the CPU."
   ]
  },
  {
   "cell_type": "code",
   "execution_count": 12,
   "id": "ef337040",
   "metadata": {
    "scrolled": true
   },
   "outputs": [
    {
     "name": "stdout",
     "output_type": "stream",
     "text": [
      "\tTraining loss: 0.9831161086375897\n",
      "\tValidation loss: 0.7904915809631348\n",
      "\tTraining loss: 0.781135210624108\n",
      "\tValidation loss: 0.5766752064228058\n",
      "\tTraining loss: 0.6640846958527198\n",
      "\tValidation loss: 0.49422846734523773\n",
      "\tTraining loss: 0.6100761294364929\n",
      "\tValidation loss: 0.5095892548561096\n",
      "\tTraining loss: 0.5654832972930028\n",
      "\tValidation loss: 0.42029060423374176\n",
      "\tTraining loss: 0.5677131253939408\n",
      "\tValidation loss: 0.39867186546325684\n",
      "\tTraining loss: 0.4953767405106471\n",
      "\tValidation loss: 0.4126570075750351\n",
      "\tTraining loss: 0.4746035039424896\n",
      "\tValidation loss: 0.36696895956993103\n",
      "\tTraining loss: 0.49627828139525193\n",
      "\tValidation loss: 0.37506377696990967\n",
      "\tTraining loss: 0.4590642796112941\n",
      "\tValidation loss: 0.39287686347961426\n",
      "\tTraining loss: 0.45242966826145464\n",
      "\tValidation loss: 0.34029823541641235\n",
      "\tTraining loss: 0.450265666613212\n",
      "\tValidation loss: 0.41964875161647797\n",
      "\tTraining loss: 0.45502057442298305\n",
      "\tValidation loss: 0.32041899859905243\n",
      "\tTraining loss: 0.4230010234392606\n",
      "\tValidation loss: 0.3105934113264084\n",
      "\tTraining loss: 0.44463884142728954\n",
      "\tValidation loss: 0.38527923822402954\n",
      "\tTraining loss: 0.41882036282466006\n",
      "\tValidation loss: 0.3827446550130844\n",
      "\tTraining loss: 0.4756240455003885\n",
      "\tValidation loss: 0.29995734989643097\n",
      "\tTraining loss: 0.4008774138413943\n",
      "\tValidation loss: 0.28012028336524963\n",
      "\tTraining loss: 0.39040638277163875\n",
      "\tValidation loss: 0.3453291207551956\n",
      "\tTraining loss: 0.389654278755188\n",
      "\tValidation loss: 0.3053404539823532\n"
     ]
    }
   ],
   "source": [
    "for epoch in range(epochs):\n",
    "    training_loss = 0\n",
    "    valid_loss = 0\n",
    "    \n",
    "    training_accuracy = 0\n",
    "    valid_accuracy = 0\n",
    "    \n",
    "    model.train()\n",
    "    for images, labels in train_loader:\n",
    "        if move_to_gpu:\n",
    "            images, labels = images.cuda(), labels.cuda()\n",
    "        optimizer.zero_grad()\n",
    "        #Make predictions with model\n",
    "        predictions = model(images)\n",
    "        #Call loss function and back-propagate its results.\n",
    "        loss = loss_func(predictions, labels)\n",
    "        loss.backward()\n",
    "        #Use the optimizer correctly to update weights/gradients.\n",
    "        optimizer.step()\n",
    "        #Record training losses for each epoch.\n",
    "        training_loss += loss.item()\n",
    "        \n",
    "        \n",
    "        # Calculate accuracy by finding max log probability\n",
    "        _, pred = torch.max(predictions, dim=1)\n",
    "        correct_tensor = pred.eq(labels.data.view_as(pred))\n",
    "        # Need to convert correct tensor from int to float to average\n",
    "        accuracy = torch.mean(correct_tensor.type(torch.FloatTensor))\n",
    "        #Training accuracy\n",
    "        training_accuracy += accuracy.item()\n",
    "        \n",
    "        \n",
    "    #Correctly set up validation at each epoch.\n",
    "    for images, labels in validation_loader:\n",
    "        predictions = model(images)\n",
    "        loss = loss = loss_func(predictions, labels)\n",
    "        #record validation losses for each epoch.\n",
    "        valid_loss += loss.item()\n",
    "        \n",
    "        # Calculate accuracy by finding max log probability\n",
    "        _, pred = torch.max(predictions, dim=1)\n",
    "        correct_tensor = pred.eq(labels.data.view_as(pred))\n",
    "        # Need to convert correct tensor from int to float to average\n",
    "        accuracy = torch.mean(correct_tensor.type(torch.FloatTensor))\n",
    "        #Training accuracy\n",
    "        valid_accuracy += accuracy.item()\n",
    "    \n",
    "    epoch_list.append(epoch)\n",
    "        \n",
    "    #record training and validation loss for each epoch\n",
    "    training_losses.append(training_loss/len(train_loader))\n",
    "    validation_losses.append(valid_loss/len(validation_loader))\n",
    "    \n",
    "    #record training and validation accuracies for each epoch\n",
    "    training_accuracies.append(training_accuracy/len(train_loader))\n",
    "    valid_accuracies.append(valid_accuracy/len(validation_loader))\n",
    "    \n",
    "    print(f\"\\tTraining loss: {training_loss/len(train_loader)}\")\n",
    "    print(f\"\\tValidation loss: {valid_loss/len(validation_loader)}\")\n",
    "\n",
    "    "
   ]
  },
  {
   "cell_type": "markdown",
   "id": "a709ce13",
   "metadata": {},
   "source": [
    "24. Graph training versus validation loss using matplotlib.pyplot (or other). Was your model overfitting, underfitting, or neither?"
   ]
  },
  {
   "cell_type": "code",
   "execution_count": 13,
   "id": "f150e64f",
   "metadata": {},
   "outputs": [
    {
     "data": {
      "image/png": "[encoded data removed]",
      "text/plain": [
       "<Figure size 432x288 with 1 Axes>"
      ]
     },
     "metadata": {
      "needs_background": "light"
     },
     "output_type": "display_data"
    }
   ],
   "source": [
    "import matplotlib.pyplot as plt\n",
    "plt.plot(epoch_list, training_losses,marker=\"o\")\n",
    "plt.plot(epoch_list, validation_losses, marker='o')\n",
    "plt.xlabel('Epoch')\n",
    "plt.ylabel('Loss')\n",
    "plt.legend(['Training', 'Validation'])\n",
    "plt.title('Training vs Validation Loss')\n",
    "\n",
    "plt.show()"
   ]
  },
  {
   "cell_type": "markdown",
   "id": "42f5cf8c",
   "metadata": {},
   "source": [
    "25. Make a list of reasons why your model may have under-performed."
   ]
  },
  {
   "cell_type": "markdown",
   "id": "13edc0b8",
   "metadata": {},
   "source": [
    "One possibility that the model underperforms could be due to the dataset itself.  Some of the images have multiple people/animals in one photo, so maybe the model gets confused on how to identify what is in the image.  Another reason the model may underperform is that there is an imbalance between the number of images for training for the different breeds, so the model may recognize one dog better than another.  Also, the sample size is pretty small, around 100-200 photos so that may not be a large enough sample size to train well.  Another thing that I can think of is that maybe a smaller batch size might help the model perform better."
   ]
  },
  {
   "cell_type": "markdown",
   "id": "6a9660fa",
   "metadata": {},
   "source": [
    "26. Make a list of ways you could improve your model performance (you don't have to implement these unless you wan to)."
   ]
  },
  {
   "cell_type": "markdown",
   "id": "f3d2ab72",
   "metadata": {},
   "source": [
    "Decrease batch size, adjust learning rate, change number of epochs, get more images of the dogs to increase smaple size, try different image transformations"
   ]
  },
  {
   "cell_type": "markdown",
   "id": "f3a9d90d",
   "metadata": {},
   "source": [
    "27. Graph training versus validation accuracy using matplotlib.pyplot (or other). Score your model on its predictions on the holdout. Discuss why you think your results will or will not generalize."
   ]
  },
  {
   "cell_type": "code",
   "execution_count": 14,
   "id": "19aa698c",
   "metadata": {},
   "outputs": [
    {
     "data": {
      "image/png": "[encoded data removed]",
      "text/plain": [
       "<Figure size 432x288 with 1 Axes>"
      ]
     },
     "metadata": {
      "needs_background": "light"
     },
     "output_type": "display_data"
    }
   ],
   "source": [
    "import matplotlib.pyplot as plt\n",
    "plt.plot(epoch_list, training_accuracies,marker=\"o\")\n",
    "plt.plot(epoch_list, valid_accuracies, marker='o')\n",
    "plt.xlabel('Epoch')\n",
    "plt.ylabel('Accuracy')\n",
    "plt.legend(['Training', 'Validation'])\n",
    "plt.title('Training vs Validation Accuracy')\n",
    "\n",
    "plt.show()"
   ]
  },
  {
   "cell_type": "markdown",
   "id": "38d4cba1",
   "metadata": {},
   "source": [
    "Extra Credit: Discuss the paper in one paragraph."
   ]
  },
  {
   "cell_type": "markdown",
   "id": "ed65f397",
   "metadata": {},
   "source": [
    "This project uses neural networks to learn to identify three breeds of dogs.  CNNs are useful for this type of classification because they are able to recognize patterns in images.  Certain dogs have different visual traits.  However, great danes are very different looking compared to norwich and norfolk terriers, which look very alike.  Regular neural networks have an input layer, a hidden layer, and an output layer.  they contain neurons which are all interweaved between layers and have weights based on previous layers.  This isnt the best method of classifying images since there are no assumptions made about the data inputted into the network.  CNNs are better for classifying images since the neurons are only connected to nearby neurons and all have the same weight.  The data is also spatial.  The ReLu activation function which ensures non-linearlity as data passes through the layers.  I created a training process so that the model can learn on the images of the 3 breeds and then use what it learned to try to classify unseen images.  Based on the graphs, the accuracy of train and validation increasy pretty steeply until around the 7th epoch and then kind of hit a plateau.  Similarly, for the losses, the loss decreases pretty sharply until around the 7th epoch then plateaus."
   ]
  }
 ],
 "metadata": {
  "kernelspec": {
   "display_name": "Python 3 (ipykernel)",
   "language": "python",
   "name": "python3"
  },
  "language_info": {
   "codemirror_mode": {
    "name": "ipython",
    "version": 3
   },
   "file_extension": ".py",
   "mimetype": "text/x-python",
   "name": "python",
   "nbconvert_exporter": "python",
   "pygments_lexer": "ipython3",
   "version": "3.9.7"
  }
 },
 "nbformat": 4,
 "nbformat_minor": 5
}
